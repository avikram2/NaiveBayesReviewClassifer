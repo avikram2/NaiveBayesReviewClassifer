{
  "nbformat": 4,
  "nbformat_minor": 0,
  "metadata": {
    "colab": {
      "name": "DMAP SP21 Final Project",
      "provenance": [],
      "collapsed_sections": []
    },
    "kernelspec": {
      "name": "python3",
      "display_name": "Python 3"
    }
  },
  "cells": [
    {
      "cell_type": "code",
      "metadata": {
        "id": "MPrJ8HLyC-Cd"
      },
      "source": [
        "# Keep this code cell here\n",
        "# Project title will be used by the reviewer\n",
        "PROJECT_TITLE = \"Coursera Review Sentiment Predictions\"\n",
        "NOTEBOOK_ID   = \"1fs6jLZPiVnwwv6WGau1-h-tgnqC4ov1p\"\n",
        "VERSION = \"SP21\""
      ],
      "execution_count": 1,
      "outputs": []
    },
    {
      "cell_type": "markdown",
      "metadata": {
        "id": "ui5eQuo1DMEI"
      },
      "source": [
        "\n",
        "---\n",
        "# Project Introduction and Analysis\n",
        "\n",
        "The problem to be solved is whether the sentiment of a review (positive or negative review) can be predicted based on the words that are used in the review. In other words, the goal of the project is to see if a Naive Bayes classifier can be developed that can accurately classify the sentiment of a review, based on the words present in the review.\n",
        "\n",
        "This problem has implications for a variety of industries that rely on user/customer engagement and feedback, such as retail sellers and may not have the resources to manually check the large volume and inventory of feedback.\n",
        "\n",
        "Naive Bayes models are simple to train, but can get high accuracy, and are efficient, operating in linear time, compared to other classifier models. Thus, several industries are interested in whether Naive Bayes models can be used in classification tasks.\n",
        "\n",
        "The data is in a table format, with 3 columns, the first being a review ID, the second column being the actual text of the review, and the third column containing the numerical review score (from 1 to 5).It is already labeled, as the numerical score will serve as the label.\n",
        "The data is sourced from Kaggle, where many datasets are publicly available.\n",
        "\n",
        "Reviews with scores of 4 and higher will be considered positive, and lower scores will be considered as negative reviews.\n",
        "\n",
        "\n",
        "The dataset will be divided into training and test datasets.\n",
        "Using the training set, a Naive Bayes classifier will be learned that will predict the right class label given an unseen review. The test set will be used to test and measure the accuracy of the learned model. \n",
        "\n",
        "\n",
        "The training dataset, approximately half of the dataset, will be used to the train the Naive Bayes model and compute the likelihood probabilities, so that when the test dataset is run, the reviews that are in the test dataset can be properly classified as either positive or negative reviews. The accuracy of the model will be measured by seeing the proportion of the test dataset that was classified correctly. \n",
        "\n",
        "This project utilizes a Naive Bayes classification and Bag of Words Model (BOW) to attempt to classify reviews in the test dataset as either positive or negative reviews. \n",
        "\n",
        "The Bag of Words (BOW) model considers a piece of text to be made up of a 'bag' of independent words, diregarding their position in the text and only considering their frequency in the text. In this case, each review consists of a bag of words. \n",
        "\n",
        "Bayes Theorem is used to calculate the conditional probability of a review being positive (or negative) given the words that make up the review:\n",
        "\n",
        "$${\\displaystyle p(C_{k}\\mid \\mathbf {x} )={\\frac {p(C_{k})\\ p(\\mathbf {x} \\mid C_{k})}{p(\\mathbf {x} )}}\\,}$$\n",
        "\n",
        "Where Ck = the class (positive or negative) and x = the words that make up a review\n",
        "The conditional probabiliity of a review being positive (or negative) given the words that make up the review is known as the posterior probabilities.\n",
        "\n",
        "One of the key points of Naive Bayes model is the assumption that the words are conditionally independent with one another:\n",
        "\n",
        "$${\\displaystyle {\\begin{aligned}p(C_{k}\\mid x_{1},\\ldots ,x_{n})&\\varpropto p(C_{k},x_{1},\\ldots ,x_{n})\\\\&\\varpropto p(C_{k})\\ p(x_{1}\\mid C_{k})\\ p(x_{2}\\mid C_{k})\\ p(x_{3}\\mid C_{k})\\ \\cdots \\\\&\\varpropto p(C_{k})\\prod _{i=1}^{n}p(x_{i}\\mid C_{k})\\,,\\end{aligned}}}$$\n",
        "\n",
        "In our case, x_i are the words that are in the review, and their conditional probabilities (P(word|class)) can be derived from measuring their frequencies in positive and negative reviews.\n",
        "\n",
        "The Naive Bayes model works by choosing the classification with the highest posterior probability. \n",
        "So, to decide whether a review is positive or negative, compare the  two posterior probabilities of each and choose the maximum probability as the class label:\n",
        "\n",
        "$$max[P(Class=Positive)*\\prod{P(Word|Class)},P(Class=Negative)*\\prod{P(Word|Class)}]$$\n",
        "\n",
        "Note that these P(Words|Class) are known as the likelihood probabilities and are computed in the training phase using the bag of words model on the training dataset. These likelihood probabilities are smoothed using Laplace Smoothing to ensure that unseen words in the training phase do not have 0 probability in the testing set:\n",
        "\n",
        "Likelihood Probabilities = $$\\frac{count(word) + k}{N + k*|words|}$$\n",
        "where k = the laplace smoothing parameter (a constant), the N = the number of words in reviews of that class, the |X| = the number of unique words in reviews of both classes (all reviews in the training set).\n",
        "\n",
        "Simply, a Naive Bayes classifer operates like this: \n",
        "$${\\displaystyle {\\text{posterior}}={\\frac {{\\text{prior}}\\times {\\text{likelihood}}}{\\text{evidence}}}\\,}$$\n",
        "\n",
        "The class or type with the maximum posterior probability is what the class that the test_instance will be classified as.\n",
        "\n",
        "Firstly, a Naive-Bayes unigram classifier will be trained and tested. A unigram is simply one word, so this unigram model will consider each word separately. This means that when the likelihood probabilities will be calculated in terms of the probability of individual word, and the frequencies of individual words will need to be measured.\n",
        "\n",
        "\n",
        "Then, a Naive-Bayes bigram classifier will be trained and tested as well. This will utilize bigrams, or pairs of consecutive words, to calculate likelihood probabilities and so the frequencies of bigrams will need to be recorded in the reviews, not individual words (unigrams). The inclusion of a bigram model was decided because it was felt that pairs of consecutive words may be a more accurate method of predicting sentiment, as many words tend to appear in pairs. Also, this removes the influence of unexpected individual words that users may use in reviews. The two models will be compared.\n",
        "\n",
        "<!-- this is a comment -->\n",
        "<!-- \n",
        "\n",
        "   VIDEO INSTRUCTIONS (and data hosting)\n",
        "\n",
        "1. upload to google drive, get the share URL\n",
        "https://drive.google.com/file/d/1yGvY5a0KAqnOKf5kLh5EbbbRY4_LonAX\n",
        "\n",
        "2. convert to export URL:\n",
        "http://drive.google.com/uc?export=download&id=1yGvY5a0KAqnOKf5kLh5EbbbRY4_LonAX\n",
        "\n",
        "3. OR use some other service to host your video:\n",
        "https://storage.googleapis.com/uicourse/videos/dmap/Exact%20Instructions%20Challenge%20-%20THIS%20is%20why%20my%20kids%20hate%20me.%20%20Josh%20Darnit.mp4\n",
        "\n",
        "replace the src=\"YOUR VIDEO URL\" in the <source> tag in the next cell below\n",
        "-->"
      ]
    },
    {
      "cell_type": "code",
      "metadata": {
        "id": "JQo5zhkeEuXL",
        "colab": {
          "base_uri": "https://localhost:8080/",
          "height": 390
        },
        "outputId": "10866764-41ee-4a40-bbca-53316b5f5243"
      },
      "source": [
        "%%html\n",
        "<!-- this should be the ONLY html cell in the notebook: use markdown -->\n",
        "<div style=\"font-size:36px; max-width:800px; font-family:Times, serif;\">\n",
        "Naive Bayes Sentiment Analysis\n",
        "<video width=\"600\" controls>\n",
        "  <source src=\"https://youtu.be/wf_o4inuZYU\"\n",
        "  type=\"video/mp4\">\n",
        "</video>\n",
        "</div>\n",
        "Note: If your video is too large, you can host it on Vimeo, YouTube, etc and paste the URL here"
      ],
      "execution_count": 2,
      "outputs": [
        {
          "output_type": "display_data",
          "data": {
            "text/html": [
              "<!-- this should be the ONLY html cell in the notebook: use markdown -->\n",
              "<div style=\"font-size:36px; max-width:800px; font-family:Times, serif;\">\n",
              "Naive Bayes Sentiment Analysis\n",
              "<video width=\"600\" controls>\n",
              "  <source src=\"https://youtu.be/wf_o4inuZYU\"\n",
              "  type=\"video/mp4\">\n",
              "</video>\n",
              "</div>\n",
              "Note: If your video is too large, you can host it on Vimeo, YouTube, etc and paste the URL here"
            ],
            "text/plain": [
              "<IPython.core.display.HTML object>"
            ]
          },
          "metadata": {
            "tags": []
          }
        }
      ]
    },
    {
      "cell_type": "markdown",
      "metadata": {
        "id": "H0vBbwiwMBwI"
      },
      "source": [
        "Video at: https://youtu.be/wf_o4inuZYU\n"
      ]
    },
    {
      "cell_type": "code",
      "metadata": {
        "id": "4ZK0-f54UAtE"
      },
      "source": [
        "# add your imports here for your entire project\n",
        "import pandas as pd\n",
        "import numpy as np\n",
        "import string\n",
        "from collections import Counter\n",
        "import math\n",
        "from matplotlib import pyplot as plt"
      ],
      "execution_count": 3,
      "outputs": []
    },
    {
      "cell_type": "markdown",
      "metadata": {
        "id": "GJvmagnZDPjW"
      },
      "source": [
        "# Data Overview\n",
        "The data is in a table format, with 3 columns, the first being a review ID, the second column being the actual text of the review, and the third column containing the numerical review score (from 1 to 5).It is already labeled, as the numerical score will serve as the label. The data is sourced from Kaggle, where many datasets are publicly available.\n",
        "\n",
        "It is imported into this notebook as a dataframe, using the Pandas read_csv function\n",
        "\n",
        "It has 107018 rows total of data"
      ]
    },
    {
      "cell_type": "markdown",
      "metadata": {
        "id": "2C3Phpmh6bEp"
      },
      "source": [
        "# Data Processing and Cleaning\n",
        "The data is split into the testing and training datasets, so that half of the original data is in each set (each of the two datasets are 53509 rows). \n",
        "The reviews in the training_set and testing_set will be each processed into the following format: a list of lists, where each individual list contains the words present in one review, or in other words, each individual review is a list consisting of its constituent words as list elements. For example, training_set[0] will be a list that contains the words in the first review of training_dataset and training_set[0][0] will be the first word of the first review.\n",
        "\n",
        "To do this, first the reviews must be converted from a DataFrame Series into a list or numpy array using the .to_list() method. Then, iterating through reviews in both training and testing sets, the punctuation must be removed from the each of the reviews, and the words must be standardized to lowercase. Then finally, the review strings must be split at a space character, so each review is a list, where a word of the review is an element of the list. Then make this list into a 2d list by making this list an element of the larger list, and we have the data in the desired format. This is done for both training and testing dataframes."
      ]
    },
    {
      "cell_type": "code",
      "metadata": {
        "id": "as4rKZULAK1p"
      },
      "source": [
        "def install_data(): #get the data for the project\n",
        "  # data at https://drive.google.com/file/d/1RsgcXIi7zew3cMkAskwpJjNtrilOOeGM/view?usp=sharing\n",
        "  url = 'https://drive.google.com/uc?export=download&id=1RsgcXIi7zew3cMkAskwpJjNtrilOOeGM'\n",
        "  dataset = pd.read_csv(url)\n",
        "  return dataset #store as pandas dataframe\n",
        "data = install_data()\n",
        "# split data into training and test sets\n",
        "def training_data(dataset):\n",
        "  return dataset[0:len(dataset)//2]\n",
        "def testing_data(dataset):\n",
        "  return dataset[len(dataset)//2: len(dataset)]\n",
        "train_data = training_data(data)\n",
        "test_data = testing_data(data)\n",
        "\n",
        "#process the reviews in the training_set and testing_set into the following format: a list of lists, where each individual list contains the words present in one review\n",
        "#each review is a list consisting of its constituent words as list elements.\n",
        "#for example training_set[0] will be a list that contains the words in the first review of training_dataset and training_set[0][0] will be the first word in that review\n",
        "\n",
        "#get Reviews as a list format \n",
        "train_reviews = train_data['Review'].to_list()\n",
        "test_reviews = test_data['Review'].to_list()\n",
        "\n",
        "\n",
        "\n",
        "#need to remove punctuation and lowercase words\n",
        "\n",
        "\n",
        "#function that takes in a string as input and removes all punctuation from the string, replacing punctuation with a space\n",
        "def clean_string(input_string):\n",
        "  for character in string.punctuation:\n",
        "    input_string = input_string.replace(character, ' ') #replace the punctuation character with a space.\n",
        "  return input_string\n",
        "\n",
        "#function that takes in a string as input and makes every character lowercase\n",
        "def string_lowercase(input_string):\n",
        "  return input_string.lower()\n",
        "\n",
        "\n",
        "#function that takes the list of reviews, removes punctuation and makes everything lowercase, and then splits the reviews such that the\n",
        "#reviews are the following format: a list of lists, where each individual list contains the words present in one review\n",
        "def split_reviews(review_array):\n",
        "  new_review_array = []\n",
        "  for review in review_array: #each review is a string\n",
        "    new_review_array.append(string_lowercase(clean_string(review)).split()) #clean, make lowercase and then split, then add append the split list into a larger list\n",
        "  return new_review_array\n",
        "\n",
        "training_set = split_reviews(train_reviews) #get the training and test set into the desired format, cleaned\n",
        "test_set = split_reviews(test_reviews)\n"
      ],
      "execution_count": 4,
      "outputs": []
    },
    {
      "cell_type": "markdown",
      "metadata": {
        "id": "l0IM0gPZ6n1M"
      },
      "source": [
        "Now the data has been split into the testing and training datasets, and the reviews for each have been put into the desired data format: a list of lists, where each individual review consists of a list of its constituent words. For example training_set[0] will be a list that contains the words in the first review of training_dataset and training_set[0][0] will be the first word of that first review. Punctuation has also been replaced with space characters and the reviews have been made lowercase thanks to the helper functions.\n",
        "\n",
        "Now, let's get the labels (1 for positive, and 0 for negative reviews)\n",
        "for the training and test datasets, so it is possible to train the Naive Bayes model and measure the accuracy of the model on the test dataset. The labels will come from the numerical score that was assigned with the reviews, and a score of 3 or higher will be a 1."
      ]
    },
    {
      "cell_type": "code",
      "metadata": {
        "id": "WlDY_cCA-xZ-"
      },
      "source": [
        "#get the labels for the training and test datasets into a list\n",
        "#for ex. training_labels[0] will contain the label of the first review in the training set, either a  1 (for positive) or 0 (negative)\n",
        "score_list_test = test_data['Label'].to_list() # list of scores\n",
        "score_list_train = train_data['Label'].to_list()\n",
        "\n",
        "#function to iterate over list of labels, and return 1 (positive) if score is > 3 and otherwise 0\n",
        "def convert_to_pos_neg(label_list):\n",
        "  new_list = [1 if elem > 3 else 0 for elem in label_list]\n",
        "  return new_list\n",
        "\n",
        "train_labels = convert_to_pos_neg(score_list_train) # get the list of labels for both datasets\n",
        "test_labels = convert_to_pos_neg(score_list_test)"
      ],
      "execution_count": 5,
      "outputs": []
    },
    {
      "cell_type": "markdown",
      "metadata": {
        "id": "AVqckiHyDUkD"
      },
      "source": [
        "# Data Analysis\n",
        "First the data is acquired from a csv as a Pandas DataFrame. Then the data is split into the testing and training datasets, so that approximately half of the original data is in each set.\n",
        "\n",
        "The data contains 3 columns, the first is an ID/row number, the second is the actual review, and the third is the Label, a score from 1 to 5. Reviews with scores of 4 and higher will be considered to be positive and 1-2 will be considered negative.\n",
        "\n",
        "**Processing**: The reviews in the training_set and testing_set will be each processed into the following format: a list of lists, where each individual list contains the words present in one review. For example, training_set[0] will be a list that contains the words in the first review of training_dataset and training_set[0][0] will be the first word in that review\n",
        "\n",
        "**Training Phase:** Use the training set to build a bag of words model using the reviews. \n",
        "Recall that the Bag of Words (BOW) model considers a piece of text to be made up of a 'bag' of independent words, diregarding their position in the text and only considering their frequency in the text. In this case, each review consists of a bag of words.\n",
        "\n",
        "The likelihood probabilities must be computed.\n",
        "\n",
        "P(Word|Class) are known as the likelihood probabilities and are computed in the training phase using the bag of words model on the training dataset. These likelihood probabilities are smoothed using Laplace Smoothing to ensure that unseen words in the training phase do not have 0 probability in the testing set:\n",
        "\n",
        "Likelihood Probabilities = $$\\frac{count(word) + k}{N + k*|words|}$$\n",
        "where k = the laplace smoothing parameter (a constant), the N = the number of words in reviews of that class, the |X| = the number of unique words in reviews of both classes (all reviews in the training set). \n",
        "\n",
        "**Testing Phase**: The testing dataset is the the same processed format as the training, namely, a list of lists, where each list contains the words in one review.\n",
        "\n",
        "It's time to iterate through the every review in the testing dataset, calculate the posterior probabilities based on the words in the review, and then classify each review as either positive or negative based on the maximum posterior probability.\n",
        "\n",
        "Recall that Bayes Theorem is used to calculate the conditional probability of a review being positive (or negative) given the words that make up the review:\n",
        "\n",
        "$${\\displaystyle p(C_{k}\\mid \\mathbf {x} )={\\frac {p(C_{k})\\ p(\\mathbf {x} \\mid C_{k})}{p(\\mathbf {x} )}}\\,}$$\n",
        "\n",
        "Where Ck = the class (positive or negative) and x = the words that make up a review\n",
        "The conditional probabiliity of a review being positive (or negative) given the words that make up the review is known as the posterior probabilities.\n",
        "\n",
        "One of the key points of Naive Bayes model is the assumption that the words are conditionally independent with one another:\n",
        "\n",
        "$${\\displaystyle {\\begin{aligned}p(C_{k}\\mid x_{1},\\ldots ,x_{n})&\\varpropto p(C_{k},x_{1},\\ldots ,x_{n})\\\\&\\varpropto p(C_{k})\\ p(x_{1}\\mid C_{k})\\ p(x_{2}\\mid C_{k})\\ p(x_{3}\\mid C_{k})\\ \\cdots \\\\&\\varpropto p(C_{k})\\prod _{i=1}^{n}p(x_{i}\\mid C_{k})\\,,\\end{aligned}}}$$\n",
        "\n",
        "In our case, x_i are the words that are in the review, and their conditional probabilities (P(word|class)) can be derived from measuring their frequencies in positive and negative reviews.\n",
        "\n",
        "The Naive Bayes model works by choosing the classification with the highest posterior probability. \n",
        "So, to decide whether a review is positive or negative, compare the  two posterior probabilities of each and choose the maximum probability as the class label:\n",
        "\n",
        "$$max[P(Class=Positive)*\\prod{P(Word|Class)},P(Class=Negative)*\\prod{P(Word|Class)}]$$\n",
        "\n",
        "Note that these P(Words|Class) are known as the likelihood probabilities and are computed in the training phase using the bag of words model on the training dataset. These likelihood probabilities are smoothed using Laplace Smoothing to ensure that unseen words in the training phase do not have 0 probability in the testing set:\n",
        "\n",
        "Likelihood Probabilities = $$\\frac{count(word) + k}{N + k*|words|}$$\n",
        "where k = the laplace smoothing parameter (a constant), the N = the number of words in reviews of that class, the |X| = the number of unique words in reviews of both classes (all reviews in the training set).\n",
        "\n",
        "Simply, a Naive Bayes classifer operates like this: \n",
        "$${\\displaystyle {\\text{posterior}}={\\frac {{\\text{prior}}\\times {\\text{likelihood}}}{\\text{evidence}}}\\,}$$\n",
        "\n",
        "The class or type with the maximum posterior probability is what the class that the test_instance will be classified as.\n",
        "\n",
        "Firstly, a Naive-Bayes unigram classifier will be trained and tested. A unigram is simply one word, so this unigram model will consider each word separately. This means that when the likelihood probabilities will be calculated in terms of the probability of individual word, and the frequencies of individual words will need to be measured.\n",
        "\n",
        "\n",
        "Then, a Naive-Bayes bigram classifier will be trained and tested as well. This will utilize bigrams, or pairs of consecutive words, to calculate likelihood probabilities and so the frequencies of bigrams will need to be recorded in the reviews, not individual words (unigrams). The inclusion of a bigram model was decided because it was felt that pairs of consecutive words may be a more accurate method of predicting sentiment, as many words tend to appear in pairs. Also, this removes the influence of unexpected individual words that users may use in reviews. The two models will be compared.\n",
        "As the reviews are classified as positive or negative, a 1 (for positive, or 0 for negative) will be appended to a list. For example list[0] = 1 means that the first review in the testing_set was classified as a positive review. This list will be returned.\n",
        "\n",
        "\n",
        "Now, interesting measurements like the accuracy can be computed as the proportion of the training_reviews that were correctly classified to their true label, as a way of measuring the success of the modes and the Naive Bayes, Bag-of-Words methdology of attempting to predict the sentiment of an unseen review.\n",
        "\n",
        "The accuracy will broadly let us know if this Naive Bayes, BOW model is a good way of attempting to classify the sentiment of an unseen review and for classifying similar problems/scenarios.\n",
        "\n",
        "Along with the accuracy, the proportion of false positives and false negatives can also be computed for the two classifiers, and can further help decide whether a Naive Bayes Model is a good choice or not.\n",
        "\n",
        "Why Naive Bayes?\n",
        "Why did I choose to use Naive Bayes classification model?\n",
        "Naive Bayes classifiers are quite simple and efficient to train, especially when the data is labeled (supervised learning). Due to various assumptions made in the model (such as that of conditional independence and the Bag-of-Words model), it is very simple to create a Naive Bayes classifier. Despite their simplicity to train, Naive Bayes classifiers are regarded as very accurate in real-world classification scenarios."
      ]
    },
    {
      "cell_type": "code",
      "metadata": {
        "id": "dOE9452a9gbE"
      },
      "source": [
        "#training and testing phase\n",
        "class NaiveBayes(object):\n",
        "  def __init__(self, init_train_set, init_train_labels, init_test_set, init_test_labels, init_smoothing_parameter = 1.0):\n",
        "    self.train_set = init_train_set\n",
        "    self.train_labels = init_train_labels\n",
        "    self.test_set = init_test_set\n",
        "    self.test_labels = init_test_labels\n",
        "    self.smoothing_parameter = init_smoothing_parameter # smoothing_parameter - The Laplace smoothing parameter (1.0 by default)\n",
        "  \n",
        "  #function to calculate the estimated prior probability of the positive label using the training dataset\n",
        "  def calculate_pos_prior(self):\n",
        "    pos_count = 0\n",
        "    for elem in self.train_labels: #increment through each of the training_labels\n",
        "      if elem == 1:\n",
        "        pos_count += 1\n",
        "    self.pos_prior = pos_count/len(self.train_labels) # pos_prior - positive prior probability (between 0 and 1)\n",
        "\n",
        "\n",
        "  def train_and_test(self):\n",
        "    NegativeCounter = Counter() #counter to hold the frequencies of unigrams (words) in the negative reviews of the training set\n",
        "    PositiveCounter = Counter() #counter to hold the frequencies of unigrams (words) in the positive reviews of the training set\n",
        "    positiveLength = 0 #running sum, keeps track of the number of total words in the positive reviews of the training set\n",
        "    negativeLength = 0 #running sum, keeps track of the number of total words in the negative reviews of the training set\n",
        "    total_word_set = set() # set of all words in both classes\n",
        "    for x in range(len(self.train_labels)): #for each of the training_set reviews, check the label\n",
        "        if self.train_labels[x] == 1: #if the review is positive\n",
        "            PositiveCounter.update(self.train_set[x]) #update positive counter with frequencies of the words in the positive review\n",
        "            positiveLength += len(self.train_set[x]) #update positive length variable by adding the length of the new positive review\n",
        "        elif self.train_labels[x] == 0:\n",
        "            NegativeCounter.update(self.train_set[x]) #update negative counter with frequencies of the words in the negative review\n",
        "          \n",
        "           #update negative length variable by adding the length of the new negative review\n",
        "            negativeLength += len(self.train_set[x])\n",
        "        total_word_set.update(self.train_set[x]) #update the set of all unique words in both classes by adding the review\n",
        "\n",
        "    for key in NegativeCounter.keys(): #Calculate the likelihood probabilites of the words in the negative and positive counters and apply laplace smoothing\n",
        "        #for key in negative counter\n",
        "        #P(word | class=negative) = frequency of word in negative reviews with laplace smoothing applied\n",
        "        NegativeCounter[key] = ((NegativeCounter[key] + self.smoothing_parameter)/(negativeLength + self.smoothing_parameter*len(total_word_set)))\n",
        "    for key in PositiveCounter.keys():\n",
        "      #for key, aka word (unigram) in the positive counter\n",
        "      #P(word | class=positive) = frequency of word in positive reviews with laplace smoothing applied\n",
        "        PositiveCounter[key] = ((PositiveCounter[key] + self.smoothing_parameter)/(positiveLength + self.smoothing_parameter*len(total_word_set)))\n",
        "    \n",
        "    classify = []\n",
        "    for review_test in self.test_set: #for each review in the test set, lets choose the class with the max posterior probability and classify\n",
        "        negativeProb = 0 #variable to hold negative posterior probability \n",
        "        positiveProb = 0 #variable to hold positive posterior probaility\n",
        "        for elem in review_test: #for each word in the review\n",
        "\n",
        "                  #Note that log probabilities are used in order to reduce the possibility of underflow and to turn the products into a sum of likelihood probabilities, thanks to log properties\n",
        "            if elem in NegativeCounter: #calculate posterior probabilities\n",
        "                negativeProb += math.log(NegativeCounter[elem])\n",
        "            else:\n",
        "                negativeProb += math.log((self.smoothing_parameter/(negativeLength + self.smoothing_parameter * len(total_word_set))))\n",
        "            if elem in PositiveCounter:\n",
        "                positiveProb += math.log(PositiveCounter[elem])\n",
        "            else:\n",
        "                positiveProb += math.log((self.smoothing_parameter/(positiveLength + self.smoothing_parameter * len(total_word_set))))\n",
        "        negativeProb += math.log(1-self.pos_prior) #apply the prior probabilities into the posterior probabilities\n",
        "        positiveProb += math.log(self.pos_prior)\n",
        "        x = 0 if (negativeProb) > (positiveProb) else 1 #classify the review as the class with the maximum posterior probability\n",
        "        classify.append(x)\n",
        "    return classify\n",
        "  \n",
        "\n",
        "  #function to calculate model_accuracy on test dataset by comparing predicted labels (output of the model) with actual labels\n",
        "  def measure_test_accuracy(self, predicted_labels):\n",
        "    correctly_classified = 0 # holds number of correctly classified reviews\n",
        "    for idx in range(len(predicted_labels)): #for each predicted label\n",
        "      if predicted_labels[idx] == self.test_labels[idx]:\n",
        "        correctly_classified += 1 # if the two match then increment correctly classified variable\n",
        "    return correctly_classified/len(predicted_labels) #return ratio of correctly classified reviews"
      ],
      "execution_count": 6,
      "outputs": []
    },
    {
      "cell_type": "code",
      "metadata": {
        "colab": {
          "base_uri": "https://localhost:8080/"
        },
        "id": "M44j-cW_QFwQ",
        "outputId": "f0e54cd3-16ea-47b6-f006-929b74ad6a75"
      },
      "source": [
        "nb = NaiveBayes(training_set, train_labels, test_set, test_labels) #create naive bayes object with the data from the dataset\n",
        "nb.calculate_pos_prior() #calculate the prior probaility of the positive class\n",
        "pred_labels = nb.train_and_test() #train and test the model\n",
        "nb.measure_test_accuracy(pred_labels) #measure the accuracy of the model on the test dataset \n",
        "\n",
        "#The Naive Bayes unigram model gets an accuracy of 91.603% on the test dataset"
      ],
      "execution_count": 7,
      "outputs": [
        {
          "output_type": "execute_result",
          "data": {
            "text/plain": [
              "0.9160328169093049"
            ]
          },
          "metadata": {
            "tags": []
          },
          "execution_count": 7
        }
      ]
    },
    {
      "cell_type": "markdown",
      "metadata": {
        "id": "9fabUKefTBiu"
      },
      "source": [
        "As you can see, the Naive Bayes unigram model gets an accuracy of 91.603% on the test dataset! That's pretty good! \n",
        "\n",
        "Now, let's see what happens to the accuracy by modifying the model. Instead of considering unigrams, or single words, while calculating the likelihood probabilities, let's only consider bigrams, or pairs of two adjacent words while calculating the likelihood probabilities."
      ]
    },
    {
      "cell_type": "code",
      "metadata": {
        "id": "AYm5N3QYTsFP"
      },
      "source": [
        "class NaiveBayesBigram(object):\n",
        "  def __init__(self, init_train_set, init_train_labels, init_test_set, init_test_labels, init_bigram_smoothing_parameter = 1.0):\n",
        "    self.train_set = init_train_set\n",
        "    self.train_labels = init_train_labels\n",
        "    self.test_set = init_test_set\n",
        "    self.test_labels = init_test_labels\n",
        "    self.bigram_smoothing_parameter = init_bigram_smoothing_parameter # smoothing_parameter - The Laplace smoothing parameter (1.0 by default)\n",
        "  \n",
        "  #function to calculate the estimated prior probability of the positive label using the training dataset\n",
        "  def calculate_pos_prior(self):\n",
        "    pos_count = 0\n",
        "    for elem in self.train_labels: #increment through each of the training_labels\n",
        "      if elem == 1:\n",
        "        pos_count += 1\n",
        "    self.pos_prior = pos_count/len(self.train_labels) # pos_prior - positive prior probability (between 0 and 1)\n",
        "\n",
        "\n",
        "  #function that takes in a single review (string) as input and returns a list of bigrams of that review\n",
        "  def generate_bigrams(self, review_string):\n",
        "    bigrams = []\n",
        "    for x in range(len(review_string)-1):\n",
        "      bigrams.append((review_string[x], review_string[x+1])) #add tuple of current word and next word of the review (aka a bigram) to list\n",
        "    return bigrams\n",
        "\n",
        "  #function to train and test the bigram-NaiveBayes model\n",
        "  def train_and_test_bigram(self):\n",
        "    PositiveBigram = Counter() # counter to hold the frequencies of bigrams in the positive reviews\n",
        "    NegativeBigram = Counter() #counter to hold the frequencies of bigrams in the negative reviews\n",
        "\n",
        "    bigram_set  = set() # set of all bigrams in both classes, aka holding all unique bigrams in the training dataset\n",
        "\n",
        "    PositiveBigramLen = 0 #running sum variable, holds the total number of Bigrams in the positive reviews of the training dataset\n",
        "    NegativeBigramLen = 0 #running sum variable, holds the total number of Bigrams in the negative reviews of the training dataset\n",
        "\n",
        "    for x in range(len(self.train_labels)):\n",
        "        bigramList = self.generate_bigrams(self.train_set[x]) #breakup current review into its bigrams\n",
        "        if self.train_labels[x] == 1: #if the current review is positive, update positive bigram frequencies and the positive bigram length variable\n",
        "            PositiveBigram.update(bigramList)\n",
        "            PositiveBigramLen += len(bigramList)\n",
        "        elif self.train_labels[x] == 0: #if the current review is negative, update negative bigram frequencies and the negative bigram length variable\n",
        "            NegativeBigram.update(bigramList)\n",
        "            NegativeBigramLen += len(bigramList)\n",
        "        bigram_set.update(bigramList) #update set of all bigrams\n",
        "\n",
        "    for key in PositiveBigram: #for key, aka for each of the bigrams in the positive reviews lets calculate the likelihood probabilities\n",
        "        #P(bigram|class = positive) = frequency of the bigram with laplace smoothing applied\n",
        "        PositiveBigram[key] = ((PositiveBigram[key] + self.bigram_smoothing_parameter)/(PositiveBigramLen + self.bigram_smoothing_parameter * len(bigram_set)))\n",
        "    for key in NegativeBigram:\n",
        "      #for key, aka for each of the bigrams in the negative reviews lets calculate the likelihood probabilities\n",
        "      #P(bigram|class = negative) = frequency of the bigram in negative reviews with laplace smoothing applied\n",
        "        NegativeBigram[key] = ((NegativeBigram[key] + self.bigram_smoothing_parameter)/ (NegativeBigramLen + self.bigram_smoothing_parameter * len(bigram_set)))\n",
        "\n",
        "\n",
        "    classify = []\n",
        "    for review_test in self.test_set: #for each review, lets calculate the posterior probabilities of both classes\n",
        "        NegativeProbBigram = 0 #the posterior probability of belonging to the negative class\n",
        "        PositiveProbBigram = 0 # the posterior probability of belonging to the positive class\n",
        "        for review_bigram in self.generate_bigrams(review_test): # for each bigram\n",
        "\n",
        "          #Note that log probabilities are used in order to reduce the possibility of underflow and to turn the products into a sum of likelihood probabilities, thanks to log properties\n",
        "\n",
        "            if review_bigram in NegativeBigram:\n",
        "                NegativeProbBigram += math.log(NegativeBigram[review_bigram])\n",
        "            else:\n",
        "                NegativeProbBigram += math.log((self.bigram_smoothing_parameter/(NegativeBigramLen + self.bigram_smoothing_parameter*len(bigram_set))))\n",
        "            if review_bigram in PositiveBigram:\n",
        "                PositiveProbBigram += math.log(PositiveBigram[review_bigram])\n",
        "            else:\n",
        "                PositiveProbBigram += math.log((self.bigram_smoothing_parameter/(PositiveBigramLen + self.bigram_smoothing_parameter*len(bigram_set))))\n",
        "        NegativeProbBigram += math.log(1-self.pos_prior) #apply the prior probabilities into the posterior probabilities\n",
        "        PositiveProbBigram += math.log(self.pos_prior) # add prior probabilities to the two posterior probabilities\n",
        "        x = 1 if (PositiveProbBigram) > (NegativeProbBigram) else 0 #classify the review as the class with the maximum posterior probability\n",
        "        classify.append(x)\n",
        "    return classify\n",
        "\n",
        "  #function to calculate model_accuracy on test dataset by comparing predicted labels (output of the model) with actual labels\n",
        "  def measure_test_accuracy(self, predicted_labels):\n",
        "    correctly_classified = 0 # holds number of correctly classified reviews\n",
        "    for idx in range(len(predicted_labels)): #for each predicted label\n",
        "      if predicted_labels[idx] == self.test_labels[idx]:\n",
        "        correctly_classified += 1 # if the two match then increment correctly classified var\n",
        "    return correctly_classified/len(predicted_labels)"
      ],
      "execution_count": 8,
      "outputs": []
    },
    {
      "cell_type": "markdown",
      "metadata": {
        "id": "UJYohVcIxn0M"
      },
      "source": [
        "#Conclusion and Results\n",
        "\n"
      ]
    },
    {
      "cell_type": "code",
      "metadata": {
        "colab": {
          "base_uri": "https://localhost:8080/"
        },
        "id": "fG6ITGoOe41K",
        "outputId": "7afb5712-ed8b-4945-b7dc-23977b2be2b4"
      },
      "source": [
        "nbb = NaiveBayesBigram(training_set, train_labels, test_set, test_labels)\n",
        "#create naive bayes bigram object with the data from the dataset\n",
        "nbb.calculate_pos_prior() #calculate the prior probaility of the positive class\n",
        "bigrams_pred_labels = nbb.train_and_test_bigram() #train and test the model\n",
        "nbb.measure_test_accuracy(bigrams_pred_labels) #measure the accuracy of the model on the test dataset \n",
        "#The Bigrams Naive-Bayes Model results in an accuracy of 91.904165%"
      ],
      "execution_count": 9,
      "outputs": [
        {
          "output_type": "execute_result",
          "data": {
            "text/plain": [
              "0.919041656543759"
            ]
          },
          "metadata": {
            "tags": []
          },
          "execution_count": 9
        }
      ]
    },
    {
      "cell_type": "markdown",
      "metadata": {
        "id": "4esjrs8zf43A"
      },
      "source": [
        "The Bigrams Naive Bayes Model resulted in an accuracy of 91.904165%, which is a very small increase in accuracy from the unigrams model, which had an accuracy of 91.6%.\n",
        "\n",
        "Now let's summarize the results and performance of the models with some visual aids"
      ]
    },
    {
      "cell_type": "code",
      "metadata": {
        "colab": {
          "base_uri": "https://localhost:8080/",
          "height": 879
        },
        "id": "KlpvBSyKhmLe",
        "outputId": "bf61b662-189e-4d7c-c3cd-98ee06a60f49"
      },
      "source": [
        "#Lets create two pie charts to visually show the performance of the two models\n",
        "fig, ax = plt.subplots(2, figsize = (15,15))\n",
        "\n",
        "#this function is used for displaying the percentage values onto the pie chart\n",
        "def func(pct, allvalues):\n",
        "    absolute = int(pct / 100.*np.sum(allvalues))\n",
        "    return \"{:.4f}%\".format(pct, absolute)\n",
        "data = [nb.measure_test_accuracy(pred_labels)*100, 100-nb.measure_test_accuracy(pred_labels)*100]\n",
        "ax[0].pie(data, labels = ['Correctly Classified Test Reviews', 'Incorrectly Classified Test Reviews'], autopct=lambda pct: func(pct, data))\n",
        "ax[0].set_title(\"Unigram Naive Bayes Model Performance\")\n",
        "data2 = [nbb.measure_test_accuracy(bigrams_pred_labels)*len(bigrams_pred_labels), len(bigrams_pred_labels)-nbb.measure_test_accuracy(bigrams_pred_labels)*len(bigrams_pred_labels)]\n",
        "ax[1].pie(data2, labels = ['Correctly Classified Test Reviews', 'Incorrectly Classified Test Reviews'], autopct=lambda pct: func(pct, data2))\n",
        "ax[1].set_title(\"Bigrams Naive Bayes Model Performance\")\n"
      ],
      "execution_count": 10,
      "outputs": [
        {
          "output_type": "execute_result",
          "data": {
            "text/plain": [
              "Text(0.5, 1.0, 'Bigrams Naive Bayes Model Performance')"
            ]
          },
          "metadata": {
            "tags": []
          },
          "execution_count": 10
        },
        {
          "output_type": "display_data",
          "data": {
            "image/png": "[encoded data removed]",
            "text/plain": [
              "<Figure size 1080x1080 with 2 Axes>"
            ]
          },
          "metadata": {
            "tags": []
          }
        }
      ]
    },
    {
      "cell_type": "markdown",
      "metadata": {
        "id": "t_1_lO3xouob"
      },
      "source": [
        "Now, let's consider the errors of the two models and see what percentage of them were false positives and what percentage were false negatives, the two types of errors in this case.\n"
      ]
    },
    {
      "cell_type": "code",
      "metadata": {
        "colab": {
          "base_uri": "https://localhost:8080/",
          "height": 879
        },
        "id": "cR62lwaPmy1j",
        "outputId": "d672cff1-70d1-4015-8a60-6ba0bef8f82d"
      },
      "source": [
        "#this function will return the number of false positives (actually negative but classified as positive) and false negatives\n",
        "def classify_errors(pred, actual):\n",
        "  false_pos = 0\n",
        "  false_neg = 0 #variables to hold false positive and negatives\n",
        "  for idx in range(len(pred)):\n",
        "    if pred[idx] != actual[idx]:\n",
        "      if pred[idx] == 1 and actual[idx] == 0: #if the review was predicted to be positive but was actually negative, it is a false positive\n",
        "        false_pos += 1\n",
        "      else: #else an error has to be a false negative\n",
        "        false_neg += 1\n",
        "  return [false_pos, false_neg]\n",
        "\n",
        "fig, ax = plt.subplots(2, figsize = (15,15))\n",
        "\n",
        "#this function is used for displaying the percentage values onto the pie chart\n",
        "def func(pct, allvalues):\n",
        "    absolute = int(pct / 100.*np.sum(allvalues))\n",
        "    return \"{:.4f}%\".format(pct, absolute)\n",
        "data = classify_errors(pred_labels, test_labels)\n",
        "ax[0].pie(data, labels = ['False Positives', 'False Negatives'], autopct=lambda pct: func(pct, data))\n",
        "ax[0].set_title(\"Distribution of Errors of the Unigram Model\")\n",
        "\n",
        "data = classify_errors(bigrams_pred_labels, test_labels)\n",
        "ax[1].pie(data, labels = ['False Positives', 'False Negatives'], autopct=lambda pct: func(pct, data))\n",
        "ax[1].set_title(\"Distribution of Errors of the Bigram Model\")"
      ],
      "execution_count": 11,
      "outputs": [
        {
          "output_type": "execute_result",
          "data": {
            "text/plain": [
              "Text(0.5, 1.0, 'Distribution of Errors of the Bigram Model')"
            ]
          },
          "metadata": {
            "tags": []
          },
          "execution_count": 11
        },
        {
          "output_type": "display_data",
          "data": {
            "image/png": "[encoded data removed]",
            "text/plain": [
              "<Figure size 1080x1080 with 2 Axes>"
            ]
          },
          "metadata": {
            "tags": []
          }
        }
      ]
    },
    {
      "cell_type": "markdown",
      "metadata": {
        "id": "g_0KjuRZpPHb"
      },
      "source": [
        "Note that the Bigram Model had a more even distribution of False Positives and False Negatives. It may be useful to use the Bigram Model over the Unigram model if you desire this. Otherwise if you want to lower the chance of a False Positive Error, a Unigram model may be preferred over the Bigram Model depending on the application.\n"
      ]
    },
    {
      "cell_type": "markdown",
      "metadata": {
        "id": "Cx17l9K8yMdc"
      },
      "source": [
        "To summarize, the Unigram Naive Bayes Model had an accuracy of 91.6% and the Bigram Naive Bayes Model had an accuracy of 91.9% in the test set. Both models were trainined with the training set of 53509 reviews. These high accuracy values indicate that a Naive Bayes, Bag-of-Words (BOW) model, either a unigram or a bigram one, is an accurate and promising method of developing a classifer to predict the sentiment of a review based on the words that are present in the incoming review, especially when it is considered that there were 53509 reviews to be classified in the test set.\n",
        "\n",
        "Something to continue this project further could be combining the unigram and bigram models into a mixed model, where the posterior probabilities are calculated with a combination of the unigrams and bigrams that are in the review. This would be something interesting to explore. Something else that would be interesting to explore would be expanding the model to higher degrees of n-grams, such as tri-grams, 4-grams, etc, and perhaps using them in combination with unigrams and bigrams in a mixed model.\n",
        "\n",
        "Some other considerations which make Naive Bayes a good methodology for developing probabilistic classifiers are: naive Bayes models are very efficient to train using Supervised Learning (when the data is labeled), as several assumptions (like that of conditional independence) significantly simply the mathematics of the Naive Bayes Classifier. Even so, Naive Bayes classifiers continue to perform quite well in real-world situations and are an easy method of classifying labelled data."
      ]
    },
    {
      "cell_type": "markdown",
      "metadata": {
        "id": "hv41ElVE5d0K"
      },
      "source": [
        "\n",
        "---\n",
        "# Submission Guidelines (keep this section here)\n",
        "---\n",
        "\n",
        "\n",
        "When you are ready to submit your project, part of the submission process will be to register your notebook for reviewing.  \n",
        "\n",
        "You will also receive the links and instructions to do the peer reviews.\n",
        "\n",
        "Please review the metadata:"
      ]
    },
    {
      "cell_type": "code",
      "metadata": {
        "id": "VOUCKYCWBZDp"
      },
      "source": [
        "def get_metadata():\n",
        "  meta = {\n",
        "          \"title\": PROJECT_TITLE, # keep this as is\n",
        "          \"nb_id\": NOTEBOOK_ID,   # keep this as is\n",
        "\n",
        "\n",
        "          \"data\": ['https://drive.google.com/uc?export=download&id=1RsgcXIi7zew3cMkAskwpJjNtrilOOeGM'], #import the data\n",
        "\n",
        "          # permissions\n",
        "          # do you give the instructor the permission to copy this project\n",
        "          # and allow others to view it in the class gallery?\n",
        "          \"allow_gallery\": True,\n",
        "          \n",
        "          # if your project is made viewable to others,\n",
        "          # do you want to include your name (first/last)?\n",
        "          \"allow_name_release\": True\n",
        "          }\n",
        "  return meta"
      ],
      "execution_count": 12,
      "outputs": []
    },
    {
      "cell_type": "markdown",
      "metadata": {
        "id": "-_C-G52O29MM"
      },
      "source": [
        "Specific instructions will come for what to submit for the various milestones.\n",
        "\n",
        "If necessary, you can download the Python version of this notebook by using the `File->Download .py` as well as the notebook itself `File->Download .ipynb`.\n",
        "\n"
      ]
    }
  ]
}
